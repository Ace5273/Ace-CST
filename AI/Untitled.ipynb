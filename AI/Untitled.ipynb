{
 "cells": [
  {
   "cell_type": "code",
   "execution_count": null,
   "metadata": {
    "scrolled": true
   },
   "outputs": [],
   "source": [
    "# from matplotlib import pyplot as plt\n",
    "# from load import imageprepare\n",
    "# # print(load.newArr)\n",
    "# img = imageprepare('Pic.png')\n",
    "# plt.imshow(img, cmap = plt.cm.binary)\n",
    "# # plt.savefig('MNIST_IMAGE.png')#save MNIST image\n",
    "# plt.show()#Show / plot that image\n"
   ]
  },
  {
   "cell_type": "code",
   "execution_count": 1,
   "metadata": {},
   "outputs": [
    {
     "name": "stderr",
     "output_type": "stream",
     "text": [
      "Using TensorFlow backend.\n",
      "WARNING: Logging before flag parsing goes to stderr.\n",
      "W0623 20:05:55.634687 15372 deprecation_wrapper.py:119] From C:\\Users\\sagic\\Anaconda3\\lib\\site-packages\\keras\\backend\\tensorflow_backend.py:74: The name tf.get_default_graph is deprecated. Please use tf.compat.v1.get_default_graph instead.\n",
      "\n",
      "W0623 20:05:55.647653 15372 deprecation_wrapper.py:119] From C:\\Users\\sagic\\Anaconda3\\lib\\site-packages\\keras\\optimizers.py:790: The name tf.train.Optimizer is deprecated. Please use tf.compat.v1.train.Optimizer instead.\n",
      "\n",
      "W0623 20:05:55.657626 15372 deprecation_wrapper.py:119] From C:\\Users\\sagic\\Anaconda3\\lib\\site-packages\\keras\\backend\\tensorflow_backend.py:517: The name tf.placeholder is deprecated. Please use tf.compat.v1.placeholder instead.\n",
      "\n",
      "W0623 20:05:55.663611 15372 deprecation_wrapper.py:119] From C:\\Users\\sagic\\Anaconda3\\lib\\site-packages\\keras\\backend\\tensorflow_backend.py:4138: The name tf.random_uniform is deprecated. Please use tf.random.uniform instead.\n",
      "\n",
      "W0623 20:05:55.690539 15372 deprecation_wrapper.py:119] From C:\\Users\\sagic\\Anaconda3\\lib\\site-packages\\keras\\backend\\tensorflow_backend.py:3341: The name tf.log is deprecated. Please use tf.math.log instead.\n",
      "\n",
      "W0623 20:05:55.739408 15372 deprecation.py:323] From C:\\Users\\sagic\\Anaconda3\\lib\\site-packages\\tensorflow\\python\\ops\\math_grad.py:1250: add_dispatch_support.<locals>.wrapper (from tensorflow.python.ops.array_ops) is deprecated and will be removed in a future version.\n",
      "Instructions for updating:\n",
      "Use tf.where in 2.0, which has the same broadcast rule as np.where\n",
      "W0623 20:05:55.759355 15372 deprecation_wrapper.py:119] From C:\\Users\\sagic\\Anaconda3\\lib\\site-packages\\keras\\backend\\tensorflow_backend.py:986: The name tf.assign_add is deprecated. Please use tf.compat.v1.assign_add instead.\n",
      "\n"
     ]
    },
    {
     "name": "stdout",
     "output_type": "stream",
     "text": [
      "Epoch 1/4\n",
      "60000/60000 [==============================] - 3s 42us/step - loss: 0.2657\n",
      "Epoch 2/4\n",
      "60000/60000 [==============================] - 2s 38us/step - loss: 0.1090\n",
      "Epoch 3/4\n",
      "60000/60000 [==============================] - 2s 37us/step - loss: 0.0739\n",
      "Epoch 4/4\n",
      "60000/60000 [==============================] - 2s 37us/step - loss: 0.0547\n"
     ]
    },
    {
     "data": {
      "text/plain": [
       "<keras.callbacks.History at 0x20e3edf3198>"
      ]
     },
     "execution_count": 1,
     "metadata": {},
     "output_type": "execute_result"
    }
   ],
   "source": [
    "import keras\n",
    "import keras.datasets.mnist as mnist\n",
    "import matplotlib.pyplot as plt\n",
    "import numpy as np\n",
    "from load import imageprepare\n",
    "\n",
    "(x_train, y_train), (x_test, y_test) = mnist.load_data() # 28 * 28 images\n",
    "\n",
    "x_train = keras.utils.normalize(x_train, axis = 1)\n",
    "x_test = keras.utils.normalize(x_test, axis = 1)\n",
    "\n",
    "model = keras.models.Sequential()\n",
    "model.add(keras.layers.Flatten())\n",
    "model.add(keras.layers.Dense(128, activation = 'relu'))\n",
    "model.add(keras.layers.Dense(128, activation = 'relu'))\n",
    "model.add(keras.layers.Dense(10, activation = 'softmax'))\n",
    "\n",
    "model.compile(optimizer='adam',\n",
    "              loss='sparse_categorical_crossentropy',\n",
    "              metric=['accuracy'])\n",
    "model.fit(x_train, y_train, epochs=4)"
   ]
  },
  {
   "cell_type": "code",
   "execution_count": null,
   "metadata": {},
   "outputs": [],
   "source": [
    "val_loss = model.evaluate(x_test,y_test)\n",
    "print(val_loss)"
   ]
  },
  {
   "cell_type": "code",
   "execution_count": null,
   "metadata": {},
   "outputs": [],
   "source": [
    "predictions = model.predict([x_test])"
   ]
  },
  {
   "cell_type": "code",
   "execution_count": null,
   "metadata": {
    "scrolled": true
   },
   "outputs": [],
   "source": [
    "import numpy as np\n",
    "import matplotlib.pyplot as plt\n",
    "\n",
    "for i in range(0,len(predictions)):\n",
    "    result = np.argmax(predictions[i])\n",
    "    if result != y_test[i]:\n",
    "        print(result, y_test[i])\n",
    "        plt.imshow(x_test[i], cmap = plt.cm.binary)\n",
    "        plt.show()\n",
    "# print(np.argmax(predictions[3]))\n",
    "# plt.imshow(x_test[3], cmap = plt.cm.binary)\n",
    "# plt.show()"
   ]
  },
  {
   "cell_type": "code",
   "execution_count": 7,
   "metadata": {},
   "outputs": [
    {
     "data": {
      "image/png": "[encoded data removed]",
      "text/plain": [
       "<Figure size 432x288 with 1 Axes>"
      ]
     },
     "metadata": {
      "needs_background": "light"
     },
     "output_type": "display_data"
    },
    {
     "name": "stdout",
     "output_type": "stream",
     "text": [
      "4\n"
     ]
    }
   ],
   "source": [
    "import numpy as np\n",
    "import matplotlib.pyplot as plt\n",
    "\n",
    "img= imageprepare('Pic.png')\n",
    "x_test = np.append(x_test, [img], axis=0)\n",
    "# y_test = np.append(y_test, 8)\n",
    "predictions = model.predict([x_test])\n",
    "# import matplotlib.image as mpimg\n",
    "\n",
    "# img=mpimg.imread('Pic.png')\n",
    "# x_test = keras.utils.normalize([img], axis = 1)\n",
    "plt.imshow(x_test[-1], cmap = plt.cm.binary)\n",
    "plt.show()\n",
    "print(np.argmax(predictions[-1]))"
   ]
  },
  {
   "cell_type": "code",
   "execution_count": null,
   "metadata": {},
   "outputs": [],
   "source": []
  },
  {
   "cell_type": "code",
   "execution_count": null,
   "metadata": {},
   "outputs": [],
   "source": []
  },
  {
   "cell_type": "code",
   "execution_count": null,
   "metadata": {},
   "outputs": [],
   "source": []
  }
 ],
 "metadata": {
  "kernelspec": {
   "display_name": "Python 3",
   "language": "python",
   "name": "python3"
  },
  "language_info": {
   "codemirror_mode": {
    "name": "ipython",
    "version": 3
   },
   "file_extension": ".py",
   "mimetype": "text/x-python",
   "name": "python",
   "nbconvert_exporter": "python",
   "pygments_lexer": "ipython3",
   "version": "3.7.3"
  }
 },
 "nbformat": 4,
 "nbformat_minor": 2
}
